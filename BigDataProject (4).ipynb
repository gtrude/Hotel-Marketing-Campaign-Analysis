{
  "cells": [
    {
      "cell_type": "markdown",
      "metadata": {
        "id": "DcOndGBNAOm7"
      },
      "source": [
        "# Data Cleaning & Engineering"
      ]
    },
    {
      "cell_type": "code",
      "execution_count": null,
      "metadata": {
        "id": "t8Ta4j6p54nU"
      },
      "outputs": [],
      "source": [
        "import pandas as pd\n",
        "\n",
        "# Load the data\n",
        "data = pd.read_csv('egphotelbookings.csv')"
      ]
    },
    {
      "cell_type": "code",
      "execution_count": null,
      "metadata": {
        "colab": {
          "base_uri": "https://localhost:8080/",
          "height": 403
        },
        "id": "25lg9L9W1Aw2",
        "outputId": "837e1887-1403-4dab-9ac0-e8d6c1ba67f8"
      },
      "outputs": [
        {
          "data": {
            "text/html": [
              "<div>\n",
              "<style scoped>\n",
              "    .dataframe tbody tr th:only-of-type {\n",
              "        vertical-align: middle;\n",
              "    }\n",
              "\n",
              "    .dataframe tbody tr th {\n",
              "        vertical-align: top;\n",
              "    }\n",
              "\n",
              "    .dataframe thead th {\n",
              "        text-align: right;\n",
              "    }\n",
              "</style>\n",
              "<table border=\"1\" class=\"dataframe\">\n",
              "  <thead>\n",
              "    <tr style=\"text-align: right;\">\n",
              "      <th></th>\n",
              "      <th>Unnamed: 0</th>\n",
              "      <th>hotel</th>\n",
              "      <th>is_canceled</th>\n",
              "      <th>lead_time</th>\n",
              "      <th>arrival_date_year</th>\n",
              "      <th>arrival_date_month</th>\n",
              "      <th>arrival_date_week_number</th>\n",
              "      <th>arrival_date_day_of_month</th>\n",
              "      <th>stays_in_weekend_nights</th>\n",
              "      <th>stays_in_week_nights</th>\n",
              "      <th>...</th>\n",
              "      <th>assigned_room_type</th>\n",
              "      <th>booking_changes</th>\n",
              "      <th>deposit_type</th>\n",
              "      <th>agent</th>\n",
              "      <th>company</th>\n",
              "      <th>days_in_waiting_list</th>\n",
              "      <th>customer_type</th>\n",
              "      <th>adr</th>\n",
              "      <th>required_car_parking_spaces</th>\n",
              "      <th>total_of_special_requests</th>\n",
              "    </tr>\n",
              "  </thead>\n",
              "  <tbody>\n",
              "    <tr>\n",
              "      <th>21256</th>\n",
              "      <td>21256</td>\n",
              "      <td>Renaissance Hotel</td>\n",
              "      <td>0</td>\n",
              "      <td>31</td>\n",
              "      <td>2019</td>\n",
              "      <td>February</td>\n",
              "      <td>8</td>\n",
              "      <td>19</td>\n",
              "      <td>2</td>\n",
              "      <td>3</td>\n",
              "      <td>...</td>\n",
              "      <td>G</td>\n",
              "      <td>0</td>\n",
              "      <td>No Deposit</td>\n",
              "      <td>241.0</td>\n",
              "      <td>NaN</td>\n",
              "      <td>0</td>\n",
              "      <td>Transient</td>\n",
              "      <td>76.38</td>\n",
              "      <td>0</td>\n",
              "      <td>2</td>\n",
              "    </tr>\n",
              "    <tr>\n",
              "      <th>43637</th>\n",
              "      <td>43637</td>\n",
              "      <td>JW Marriott Hotel</td>\n",
              "      <td>1</td>\n",
              "      <td>37</td>\n",
              "      <td>2018</td>\n",
              "      <td>September</td>\n",
              "      <td>39</td>\n",
              "      <td>21</td>\n",
              "      <td>1</td>\n",
              "      <td>3</td>\n",
              "      <td>...</td>\n",
              "      <td>A</td>\n",
              "      <td>0</td>\n",
              "      <td>No Deposit</td>\n",
              "      <td>9.0</td>\n",
              "      <td>NaN</td>\n",
              "      <td>0</td>\n",
              "      <td>Transient</td>\n",
              "      <td>145.80</td>\n",
              "      <td>0</td>\n",
              "      <td>2</td>\n",
              "    </tr>\n",
              "    <tr>\n",
              "      <th>71670</th>\n",
              "      <td>71670</td>\n",
              "      <td>JW Marriott Hotel</td>\n",
              "      <td>1</td>\n",
              "      <td>111</td>\n",
              "      <td>2017</td>\n",
              "      <td>July</td>\n",
              "      <td>28</td>\n",
              "      <td>9</td>\n",
              "      <td>2</td>\n",
              "      <td>3</td>\n",
              "      <td>...</td>\n",
              "      <td>A</td>\n",
              "      <td>0</td>\n",
              "      <td>No Deposit</td>\n",
              "      <td>9.0</td>\n",
              "      <td>NaN</td>\n",
              "      <td>0</td>\n",
              "      <td>Transient</td>\n",
              "      <td>108.00</td>\n",
              "      <td>0</td>\n",
              "      <td>0</td>\n",
              "    </tr>\n",
              "    <tr>\n",
              "      <th>98322</th>\n",
              "      <td>98322</td>\n",
              "      <td>JW Marriott Hotel</td>\n",
              "      <td>0</td>\n",
              "      <td>126</td>\n",
              "      <td>2019</td>\n",
              "      <td>September</td>\n",
              "      <td>39</td>\n",
              "      <td>23</td>\n",
              "      <td>2</td>\n",
              "      <td>3</td>\n",
              "      <td>...</td>\n",
              "      <td>D</td>\n",
              "      <td>0</td>\n",
              "      <td>No Deposit</td>\n",
              "      <td>9.0</td>\n",
              "      <td>NaN</td>\n",
              "      <td>0</td>\n",
              "      <td>Transient</td>\n",
              "      <td>129.60</td>\n",
              "      <td>0</td>\n",
              "      <td>2</td>\n",
              "    </tr>\n",
              "    <tr>\n",
              "      <th>77720</th>\n",
              "      <td>77720</td>\n",
              "      <td>JW Marriott Hotel</td>\n",
              "      <td>0</td>\n",
              "      <td>6</td>\n",
              "      <td>2018</td>\n",
              "      <td>September</td>\n",
              "      <td>39</td>\n",
              "      <td>24</td>\n",
              "      <td>0</td>\n",
              "      <td>1</td>\n",
              "      <td>...</td>\n",
              "      <td>A</td>\n",
              "      <td>0</td>\n",
              "      <td>No Deposit</td>\n",
              "      <td>20.0</td>\n",
              "      <td>NaN</td>\n",
              "      <td>0</td>\n",
              "      <td>Transient</td>\n",
              "      <td>77.00</td>\n",
              "      <td>0</td>\n",
              "      <td>0</td>\n",
              "    </tr>\n",
              "  </tbody>\n",
              "</table>\n",
              "<p>5 rows × 30 columns</p>\n",
              "</div>"
            ],
            "text/plain": [
              "       Unnamed: 0              hotel  is_canceled  lead_time  \\\n",
              "21256       21256  Renaissance Hotel            0         31   \n",
              "43637       43637  JW Marriott Hotel            1         37   \n",
              "71670       71670  JW Marriott Hotel            1        111   \n",
              "98322       98322  JW Marriott Hotel            0        126   \n",
              "77720       77720  JW Marriott Hotel            0          6   \n",
              "\n",
              "       arrival_date_year arrival_date_month  arrival_date_week_number  \\\n",
              "21256               2019           February                         8   \n",
              "43637               2018          September                        39   \n",
              "71670               2017               July                        28   \n",
              "98322               2019          September                        39   \n",
              "77720               2018          September                        39   \n",
              "\n",
              "       arrival_date_day_of_month  stays_in_weekend_nights  \\\n",
              "21256                         19                        2   \n",
              "43637                         21                        1   \n",
              "71670                          9                        2   \n",
              "98322                         23                        2   \n",
              "77720                         24                        0   \n",
              "\n",
              "       stays_in_week_nights  ...  assigned_room_type  booking_changes  \\\n",
              "21256                     3  ...                   G                0   \n",
              "43637                     3  ...                   A                0   \n",
              "71670                     3  ...                   A                0   \n",
              "98322                     3  ...                   D                0   \n",
              "77720                     1  ...                   A                0   \n",
              "\n",
              "       deposit_type  agent company days_in_waiting_list  customer_type  \\\n",
              "21256    No Deposit  241.0     NaN                    0      Transient   \n",
              "43637    No Deposit    9.0     NaN                    0      Transient   \n",
              "71670    No Deposit    9.0     NaN                    0      Transient   \n",
              "98322    No Deposit    9.0     NaN                    0      Transient   \n",
              "77720    No Deposit   20.0     NaN                    0      Transient   \n",
              "\n",
              "          adr  required_car_parking_spaces total_of_special_requests  \n",
              "21256   76.38                            0                         2  \n",
              "43637  145.80                            0                         2  \n",
              "71670  108.00                            0                         0  \n",
              "98322  129.60                            0                         2  \n",
              "77720   77.00                            0                         0  \n",
              "\n",
              "[5 rows x 30 columns]"
            ]
          },
          "execution_count": 76,
          "metadata": {},
          "output_type": "execute_result"
        }
      ],
      "source": [
        "# https://pandas.pydata.org/docs/reference/api/pandas.DataFrame.sample.html\n",
        "data.sample(5)"
      ]
    },
    {
      "cell_type": "code",
      "execution_count": null,
      "metadata": {
        "colab": {
          "base_uri": "https://localhost:8080/"
        },
        "id": "X9n-4U0w1BSz",
        "outputId": "ba8e8a92-4843-4763-b260-08abd9ec7b1b"
      },
      "outputs": [
        {
          "data": {
            "text/plain": [
              "Index(['Unnamed: 0', 'hotel', 'is_canceled', 'lead_time', 'arrival_date_year',\n",
              "       'arrival_date_month', 'arrival_date_week_number',\n",
              "       'arrival_date_day_of_month', 'stays_in_weekend_nights',\n",
              "       'stays_in_week_nights', 'adults', 'children', 'babies', 'meal',\n",
              "       'country', 'distribution_channel', 'is_repeated_guest',\n",
              "       'previous_cancellations', 'previous_bookings_not_canceled',\n",
              "       'reserved_room_type', 'assigned_room_type', 'booking_changes',\n",
              "       'deposit_type', 'agent', 'company', 'days_in_waiting_list',\n",
              "       'customer_type', 'adr', 'required_car_parking_spaces',\n",
              "       'total_of_special_requests'],\n",
              "      dtype='object')"
            ]
          },
          "execution_count": 77,
          "metadata": {},
          "output_type": "execute_result"
        }
      ],
      "source": [
        "# Overviewing our data columns\n",
        "data.columns"
      ]
    },
    {
      "cell_type": "code",
      "execution_count": null,
      "metadata": {
        "colab": {
          "base_uri": "https://localhost:8080/"
        },
        "id": "mMRAlS8H1E4x",
        "outputId": "05e73523-42ec-46d1-c499-2e5f98caa302"
      },
      "outputs": [
        {
          "data": {
            "text/plain": [
              "Unnamed: 0                          int64\n",
              "hotel                              object\n",
              "is_canceled                         int64\n",
              "lead_time                           int64\n",
              "arrival_date_year                   int64\n",
              "arrival_date_month                 object\n",
              "arrival_date_week_number            int64\n",
              "arrival_date_day_of_month           int64\n",
              "stays_in_weekend_nights             int64\n",
              "stays_in_week_nights                int64\n",
              "adults                              int64\n",
              "children                          float64\n",
              "babies                              int64\n",
              "meal                               object\n",
              "country                            object\n",
              "distribution_channel               object\n",
              "is_repeated_guest                   int64\n",
              "previous_cancellations              int64\n",
              "previous_bookings_not_canceled      int64\n",
              "reserved_room_type                 object\n",
              "assigned_room_type                 object\n",
              "booking_changes                     int64\n",
              "deposit_type                       object\n",
              "agent                             float64\n",
              "company                           float64\n",
              "days_in_waiting_list                int64\n",
              "customer_type                      object\n",
              "adr                               float64\n",
              "required_car_parking_spaces         int64\n",
              "total_of_special_requests           int64\n",
              "dtype: object"
            ]
          },
          "execution_count": 78,
          "metadata": {},
          "output_type": "execute_result"
        }
      ],
      "source": [
        "# Looking at dtypes to see if we can perform any conversions\n",
        "data.dtypes"
      ]
    },
    {
      "cell_type": "code",
      "execution_count": null,
      "metadata": {
        "colab": {
          "base_uri": "https://localhost:8080/"
        },
        "id": "4eLGqk7K1Zc9",
        "outputId": "dedd3c77-9161-4732-81ca-0179be370228"
      },
      "outputs": [
        {
          "data": {
            "text/plain": [
              "Unnamed: 0                             0\n",
              "hotel                                  0\n",
              "is_canceled                            0\n",
              "lead_time                              0\n",
              "arrival_date_year                      0\n",
              "arrival_date_month                     0\n",
              "arrival_date_week_number               0\n",
              "arrival_date_day_of_month              0\n",
              "stays_in_weekend_nights                0\n",
              "stays_in_week_nights                   0\n",
              "adults                                 0\n",
              "children                               4\n",
              "babies                                 0\n",
              "meal                                   0\n",
              "country                              488\n",
              "distribution_channel                   0\n",
              "is_repeated_guest                      0\n",
              "previous_cancellations                 0\n",
              "previous_bookings_not_canceled         0\n",
              "reserved_room_type                     0\n",
              "assigned_room_type                     0\n",
              "booking_changes                        0\n",
              "deposit_type                           0\n",
              "agent                              16340\n",
              "company                           112593\n",
              "days_in_waiting_list                   0\n",
              "customer_type                          0\n",
              "adr                                    0\n",
              "required_car_parking_spaces            0\n",
              "total_of_special_requests              0\n",
              "dtype: int64"
            ]
          },
          "execution_count": 79,
          "metadata": {},
          "output_type": "execute_result"
        }
      ],
      "source": [
        "# https://sparkbyexamples.com/pandas/count-nan-values-in-pandas/#:~:text=If%20we%20want%20to%20count,values%20in%20the%20entire%20DataFrame.\n",
        "data.isna().sum()"
      ]
    },
    {
      "cell_type": "code",
      "execution_count": null,
      "metadata": {
        "colab": {
          "base_uri": "https://localhost:8080/"
        },
        "id": "1Y3Y7b5y2q6E",
        "outputId": "8d69b775-d8f6-4838-f1d1-909512adb3aa"
      },
      "outputs": [
        {
          "data": {
            "text/plain": [
              "119390"
            ]
          },
          "execution_count": 80,
          "metadata": {},
          "output_type": "execute_result"
        }
      ],
      "source": [
        "# https://stackoverflow.com/questions/15943769/how-do-i-get-the-row-count-of-a-pandas-dataframe\n",
        "len(data)"
      ]
    },
    {
      "cell_type": "code",
      "execution_count": null,
      "metadata": {
        "id": "b3yroOpm24cw"
      },
      "outputs": [],
      "source": [
        "# from both cells above, we can see that the company column is almost empty so we can safely remove it from our data\n",
        "data.drop('company', axis=1, inplace=True)"
      ]
    },
    {
      "cell_type": "code",
      "execution_count": null,
      "metadata": {
        "colab": {
          "base_uri": "https://localhost:8080/"
        },
        "id": "mjJRcKV14EDb",
        "outputId": "40b29cab-479a-486d-f176-53fcc294e353"
      },
      "outputs": [
        {
          "data": {
            "text/plain": [
              "Index(['Unnamed: 0', 'hotel', 'is_canceled', 'lead_time', 'arrival_date_year',\n",
              "       'arrival_date_month', 'arrival_date_week_number',\n",
              "       'arrival_date_day_of_month', 'stays_in_weekend_nights',\n",
              "       'stays_in_week_nights', 'adults', 'children', 'babies', 'meal',\n",
              "       'country', 'distribution_channel', 'is_repeated_guest',\n",
              "       'previous_cancellations', 'previous_bookings_not_canceled',\n",
              "       'reserved_room_type', 'assigned_room_type', 'booking_changes',\n",
              "       'deposit_type', 'agent', 'days_in_waiting_list', 'customer_type', 'adr',\n",
              "       'required_car_parking_spaces', 'total_of_special_requests'],\n",
              "      dtype='object')"
            ]
          },
          "execution_count": 82,
          "metadata": {},
          "output_type": "execute_result"
        }
      ],
      "source": [
        "data.columns"
      ]
    },
    {
      "cell_type": "code",
      "execution_count": null,
      "metadata": {
        "id": "UpIEP1lH4H3_"
      },
      "outputs": [],
      "source": [
        "# filling all missing values with 0 instead of NaN\n",
        "data = data.dropna()"
      ]
    },
    {
      "cell_type": "code",
      "execution_count": null,
      "metadata": {
        "colab": {
          "base_uri": "https://localhost:8080/"
        },
        "id": "1KlkaUK35y09",
        "outputId": "85640e0e-91ab-4027-dfcd-fafd0808272b"
      },
      "outputs": [
        {
          "data": {
            "text/plain": [
              "0"
            ]
          },
          "execution_count": 84,
          "metadata": {},
          "output_type": "execute_result"
        }
      ],
      "source": [
        "# It appaers there are no duplicated rows\n",
        "data.duplicated().sum()"
      ]
    },
    {
      "cell_type": "code",
      "execution_count": null,
      "metadata": {
        "id": "KQGLV034kWf4"
      },
      "outputs": [],
      "source": [
        "# For machine learning which may need encoding the categorical variables into numbers(labels)\n",
        "df_encoded = data"
      ]
    },
    {
      "cell_type": "code",
      "execution_count": null,
      "metadata": {
        "id": "ndsyzHwQjNBi"
      },
      "outputs": [],
      "source": [
        "# https://www.geeksforgeeks.org/ml-label-encoding-of-datasets-in-python/\n",
        "from sklearn import preprocessing\n",
        "label_encoder = preprocessing.LabelEncoder()\n",
        "\n",
        "df_encoded['arrival_date_month'] = label_encoder.fit_transform(df_encoded['arrival_date_month'])\n",
        "df_encoded['meal'] = label_encoder.fit_transform(df_encoded['meal'])\n",
        "df_encoded['country'] = label_encoder.fit_transform(df_encoded['country'])\n",
        "df_encoded['distribution_channel'] = label_encoder.fit_transform(df_encoded['distribution_channel'])\n",
        "df_encoded['reserved_room_type'] = label_encoder.fit_transform(df_encoded['reserved_room_type'])\n",
        "df_encoded['assigned_room_type'] = label_encoder.fit_transform(df_encoded['assigned_room_type'])\n",
        "df_encoded['deposit_type'] = label_encoder.fit_transform(df_encoded['deposit_type'])\n",
        "df_encoded['customer_type'] = label_encoder.fit_transform(df_encoded['customer_type'])"
      ]
    },
    {
      "cell_type": "code",
      "execution_count": null,
      "metadata": {
        "colab": {
          "base_uri": "https://localhost:8080/",
          "height": 403
        },
        "id": "ZCZMX3XOlBs_",
        "outputId": "e1646a6c-e876-46f4-cfd5-67eb3d56d4b9"
      },
      "outputs": [
        {
          "data": {
            "text/html": [
              "<div>\n",
              "<style scoped>\n",
              "    .dataframe tbody tr th:only-of-type {\n",
              "        vertical-align: middle;\n",
              "    }\n",
              "\n",
              "    .dataframe tbody tr th {\n",
              "        vertical-align: top;\n",
              "    }\n",
              "\n",
              "    .dataframe thead th {\n",
              "        text-align: right;\n",
              "    }\n",
              "</style>\n",
              "<table border=\"1\" class=\"dataframe\">\n",
              "  <thead>\n",
              "    <tr style=\"text-align: right;\">\n",
              "      <th></th>\n",
              "      <th>Unnamed: 0</th>\n",
              "      <th>hotel</th>\n",
              "      <th>is_canceled</th>\n",
              "      <th>lead_time</th>\n",
              "      <th>arrival_date_year</th>\n",
              "      <th>arrival_date_month</th>\n",
              "      <th>arrival_date_week_number</th>\n",
              "      <th>arrival_date_day_of_month</th>\n",
              "      <th>stays_in_weekend_nights</th>\n",
              "      <th>stays_in_week_nights</th>\n",
              "      <th>...</th>\n",
              "      <th>reserved_room_type</th>\n",
              "      <th>assigned_room_type</th>\n",
              "      <th>booking_changes</th>\n",
              "      <th>deposit_type</th>\n",
              "      <th>agent</th>\n",
              "      <th>days_in_waiting_list</th>\n",
              "      <th>customer_type</th>\n",
              "      <th>adr</th>\n",
              "      <th>required_car_parking_spaces</th>\n",
              "      <th>total_of_special_requests</th>\n",
              "    </tr>\n",
              "  </thead>\n",
              "  <tbody>\n",
              "    <tr>\n",
              "      <th>3</th>\n",
              "      <td>3</td>\n",
              "      <td>Renaissance Hotel</td>\n",
              "      <td>0</td>\n",
              "      <td>13</td>\n",
              "      <td>2018</td>\n",
              "      <td>5</td>\n",
              "      <td>27</td>\n",
              "      <td>1</td>\n",
              "      <td>0</td>\n",
              "      <td>1</td>\n",
              "      <td>...</td>\n",
              "      <td>0</td>\n",
              "      <td>0</td>\n",
              "      <td>0</td>\n",
              "      <td>0</td>\n",
              "      <td>304.0</td>\n",
              "      <td>0</td>\n",
              "      <td>2</td>\n",
              "      <td>75.0</td>\n",
              "      <td>0</td>\n",
              "      <td>0</td>\n",
              "    </tr>\n",
              "    <tr>\n",
              "      <th>4</th>\n",
              "      <td>4</td>\n",
              "      <td>Renaissance Hotel</td>\n",
              "      <td>0</td>\n",
              "      <td>14</td>\n",
              "      <td>2018</td>\n",
              "      <td>5</td>\n",
              "      <td>27</td>\n",
              "      <td>1</td>\n",
              "      <td>0</td>\n",
              "      <td>2</td>\n",
              "      <td>...</td>\n",
              "      <td>0</td>\n",
              "      <td>0</td>\n",
              "      <td>0</td>\n",
              "      <td>0</td>\n",
              "      <td>240.0</td>\n",
              "      <td>0</td>\n",
              "      <td>2</td>\n",
              "      <td>98.0</td>\n",
              "      <td>0</td>\n",
              "      <td>1</td>\n",
              "    </tr>\n",
              "    <tr>\n",
              "      <th>5</th>\n",
              "      <td>5</td>\n",
              "      <td>Renaissance Hotel</td>\n",
              "      <td>0</td>\n",
              "      <td>14</td>\n",
              "      <td>2018</td>\n",
              "      <td>5</td>\n",
              "      <td>27</td>\n",
              "      <td>1</td>\n",
              "      <td>0</td>\n",
              "      <td>2</td>\n",
              "      <td>...</td>\n",
              "      <td>0</td>\n",
              "      <td>0</td>\n",
              "      <td>0</td>\n",
              "      <td>0</td>\n",
              "      <td>240.0</td>\n",
              "      <td>0</td>\n",
              "      <td>2</td>\n",
              "      <td>98.0</td>\n",
              "      <td>0</td>\n",
              "      <td>1</td>\n",
              "    </tr>\n",
              "    <tr>\n",
              "      <th>7</th>\n",
              "      <td>7</td>\n",
              "      <td>Renaissance Hotel</td>\n",
              "      <td>0</td>\n",
              "      <td>9</td>\n",
              "      <td>2018</td>\n",
              "      <td>5</td>\n",
              "      <td>27</td>\n",
              "      <td>1</td>\n",
              "      <td>0</td>\n",
              "      <td>2</td>\n",
              "      <td>...</td>\n",
              "      <td>2</td>\n",
              "      <td>2</td>\n",
              "      <td>0</td>\n",
              "      <td>0</td>\n",
              "      <td>303.0</td>\n",
              "      <td>0</td>\n",
              "      <td>2</td>\n",
              "      <td>103.0</td>\n",
              "      <td>0</td>\n",
              "      <td>1</td>\n",
              "    </tr>\n",
              "    <tr>\n",
              "      <th>8</th>\n",
              "      <td>8</td>\n",
              "      <td>Renaissance Hotel</td>\n",
              "      <td>1</td>\n",
              "      <td>85</td>\n",
              "      <td>2018</td>\n",
              "      <td>5</td>\n",
              "      <td>27</td>\n",
              "      <td>1</td>\n",
              "      <td>0</td>\n",
              "      <td>3</td>\n",
              "      <td>...</td>\n",
              "      <td>0</td>\n",
              "      <td>0</td>\n",
              "      <td>0</td>\n",
              "      <td>0</td>\n",
              "      <td>240.0</td>\n",
              "      <td>0</td>\n",
              "      <td>2</td>\n",
              "      <td>82.0</td>\n",
              "      <td>0</td>\n",
              "      <td>1</td>\n",
              "    </tr>\n",
              "  </tbody>\n",
              "</table>\n",
              "<p>5 rows × 29 columns</p>\n",
              "</div>"
            ],
            "text/plain": [
              "   Unnamed: 0              hotel  is_canceled  lead_time  arrival_date_year  \\\n",
              "3           3  Renaissance Hotel            0         13               2018   \n",
              "4           4  Renaissance Hotel            0         14               2018   \n",
              "5           5  Renaissance Hotel            0         14               2018   \n",
              "7           7  Renaissance Hotel            0          9               2018   \n",
              "8           8  Renaissance Hotel            1         85               2018   \n",
              "\n",
              "   arrival_date_month  arrival_date_week_number  arrival_date_day_of_month  \\\n",
              "3                   5                        27                          1   \n",
              "4                   5                        27                          1   \n",
              "5                   5                        27                          1   \n",
              "7                   5                        27                          1   \n",
              "8                   5                        27                          1   \n",
              "\n",
              "   stays_in_weekend_nights  stays_in_week_nights  ...  reserved_room_type  \\\n",
              "3                        0                     1  ...                   0   \n",
              "4                        0                     2  ...                   0   \n",
              "5                        0                     2  ...                   0   \n",
              "7                        0                     2  ...                   2   \n",
              "8                        0                     3  ...                   0   \n",
              "\n",
              "   assigned_room_type  booking_changes  deposit_type  agent  \\\n",
              "3                   0                0             0  304.0   \n",
              "4                   0                0             0  240.0   \n",
              "5                   0                0             0  240.0   \n",
              "7                   2                0             0  303.0   \n",
              "8                   0                0             0  240.0   \n",
              "\n",
              "   days_in_waiting_list  customer_type    adr  required_car_parking_spaces  \\\n",
              "3                     0              2   75.0                            0   \n",
              "4                     0              2   98.0                            0   \n",
              "5                     0              2   98.0                            0   \n",
              "7                     0              2  103.0                            0   \n",
              "8                     0              2   82.0                            0   \n",
              "\n",
              "   total_of_special_requests  \n",
              "3                          0  \n",
              "4                          1  \n",
              "5                          1  \n",
              "7                          1  \n",
              "8                          1  \n",
              "\n",
              "[5 rows x 29 columns]"
            ]
          },
          "execution_count": 100,
          "metadata": {},
          "output_type": "execute_result"
        }
      ],
      "source": [
        "df_encoded.head()"
      ]
    },
    {
      "cell_type": "code",
      "execution_count": null,
      "metadata": {
        "colab": {
          "base_uri": "https://localhost:8080/"
        },
        "id": "cKF82jV1lC7l",
        "outputId": "01d96b85-2480-4d54-ec00-26e7e6c606e3"
      },
      "outputs": [
        {
          "data": {
            "text/plain": [
              "count    102894.000000\n",
              "mean         86.545532\n",
              "std         110.714259\n",
              "min           1.000000\n",
              "25%           9.000000\n",
              "50%          14.000000\n",
              "75%         229.000000\n",
              "max         535.000000\n",
              "Name: agent, dtype: float64"
            ]
          },
          "execution_count": 86,
          "metadata": {},
          "output_type": "execute_result"
        }
      ],
      "source": [
        "# Looking at the data stats to see what can be used in binning (if we will need it in plots)\n",
        "data['agent'].describe()"
      ]
    },
    {
      "cell_type": "code",
      "execution_count": null,
      "metadata": {
        "colab": {
          "base_uri": "https://localhost:8080/"
        },
        "id": "OyryvVSom07B",
        "outputId": "5a4455c4-8564-458d-81e3-614ebbac7a93"
      },
      "outputs": [
        {
          "data": {
            "text/plain": [
              "count    102894.000000\n",
              "mean        104.679911\n",
              "std          50.021697\n",
              "min          -6.380000\n",
              "25%          73.000000\n",
              "50%          96.300000\n",
              "75%         127.800000\n",
              "max        5400.000000\n",
              "Name: adr, dtype: float64"
            ]
          },
          "execution_count": 87,
          "metadata": {},
          "output_type": "execute_result"
        }
      ],
      "source": [
        "data['adr'].describe()"
      ]
    },
    {
      "cell_type": "code",
      "execution_count": null,
      "metadata": {
        "colab": {
          "base_uri": "https://localhost:8080/"
        },
        "id": "_yBD5bXBnAs7",
        "outputId": "dab82f7f-ac93-4d0e-fbe0-5a22088bc06b"
      },
      "outputs": [
        {
          "data": {
            "text/plain": [
              "count    102894.000000\n",
              "mean        111.740092\n",
              "std         107.681013\n",
              "min           0.000000\n",
              "25%          26.000000\n",
              "50%          79.000000\n",
              "75%         169.000000\n",
              "max         629.000000\n",
              "Name: lead_time, dtype: float64"
            ]
          },
          "execution_count": 88,
          "metadata": {},
          "output_type": "execute_result"
        }
      ],
      "source": [
        "data['lead_time'].describe()"
      ]
    },
    {
      "cell_type": "code",
      "execution_count": null,
      "metadata": {
        "id": "IA5oaxoWnJG8"
      },
      "outputs": [],
      "source": [
        "# https://towardsdatascience.com/how-to-bin-numerical-data-with-pandas-fe5146c9dc55\n",
        "# Binning (Uncomment if needed for plots)\n",
        "# data['lead_time_bin'] = pd.cut(data['lead_time'], [0, 100, 200, 300, 400, 500, 600])"
      ]
    },
    {
      "cell_type": "code",
      "execution_count": null,
      "metadata": {
        "id": "06S6lTM2jtCz"
      },
      "outputs": [],
      "source": [
        "# # Combine arrival date columns into a single column\n",
        "# data['arrival_date'] = data.apply(lambda row: pd.to_datetime(f\"{int(row['arrival_date_year'])}-{int(row['arrival_date_month'])}-{int(row['arrival_date_day_of_month'])}\", format='%Y-%m-%d', errors='coerce') + pd.offsets.Week(row['arrival_date_week_number']-1), axis=1)\n",
        "\n",
        "# # Drop rows with invalid dates\n",
        "# data.dropna(subset=['arrival_date'], inplace=True)\n",
        "\n",
        "# # Drop the original arrival date columns\n",
        "# data.drop(['arrival_date_year', 'arrival_date_month', 'arrival_date_week_number', 'arrival_date_day_of_month'], axis=1, inplace=True)"
      ]
    },
    {
      "cell_type": "code",
      "execution_count": null,
      "metadata": {
        "id": "t0woqtSjkeef"
      },
      "outputs": [],
      "source": [
        "# data['arrival_date'].count()"
      ]
    },
    {
      "cell_type": "code",
      "execution_count": null,
      "metadata": {
        "id": "P7xNM5ybiJXP"
      },
      "outputs": [],
      "source": [
        "# Need to write the cleaned csv file so we can make a schema out of it for the machine learning part later\n",
        "data.to_csv('cleaned.csv', index=False)"
      ]
    },
    {
      "cell_type": "markdown",
      "metadata": {
        "id": "nMH4L1CfILH8"
      },
      "source": [
        "# Insights"
      ]
    },
    {
      "cell_type": "markdown",
      "metadata": {
        "id": "QSK3gav2M1Jq"
      },
      "source": [
        "## Insight 1: Discovering each room type and their corresponding average ADR"
      ]
    },
    {
      "cell_type": "code",
      "execution_count": null,
      "metadata": {
        "colab": {
          "base_uri": "https://localhost:8080/",
          "height": 566
        },
        "id": "VnfIOrmCJk7Z",
        "outputId": "03062b0c-0b10-42e8-b32e-7fe59bb4e4ed"
      },
      "outputs": [
        {
          "data": {
            "image/png": "[encoded data removed]",
            "text/plain": [
              "<Figure size 1000x600 with 1 Axes>"
            ]
          },
          "metadata": {},
          "output_type": "display_data"
        }
      ],
      "source": [
        "import matplotlib.pyplot as plt\n",
        "import numpy as np\n",
        "\n",
        "avg_adr_by_room_type = data.groupby('assigned_room_type')['adr'].mean()\n",
        "\n",
        "# Sort the room types based on their average daily rate\n",
        "avg_adr_by_room_type = avg_adr_by_room_type.sort_values()\n",
        "\n",
        "# Plotting the average daily rate by room type\n",
        "plt.figure(figsize=(10, 6))\n",
        "avg_adr_by_room_type.plot(kind='bar')\n",
        "plt.xlabel('Room Type')\n",
        "plt.ylabel('Average Daily Rate (ADR)')\n",
        "plt.title('Average Daily Rate by Room Type')\n",
        "plt.xticks(rotation=45)\n",
        "plt.show()"
      ]
    },
    {
      "cell_type": "markdown",
      "metadata": {
        "id": "gReYTAchNAeu"
      },
      "source": [
        "Without knowing much about what these numbers indicate in terms of room type, we can infer that types 5,6 & 7 are likely the more luxurious options."
      ]
    },
    {
      "cell_type": "markdown",
      "metadata": {
        "id": "NC7Z9bo2Km2D"
      },
      "source": [
        "## Insight 2:"
      ]
    },
    {
      "cell_type": "markdown",
      "metadata": {
        "id": "zW9jpX0qKpI_"
      },
      "source": [
        "The correlation between the reserved room type and the assigned room type for each hotel. A high correlation indicates when a room type is reserved, it is highly likely to be assigned. Both hotels are evenly matched in this department."
      ]
    },
    {
      "cell_type": "code",
      "execution_count": null,
      "metadata": {
        "colab": {
          "base_uri": "https://localhost:8080/"
        },
        "id": "b5jl3W_FJrxx",
        "outputId": "dd691eff-edcc-4d17-8d24-394c411c7e14"
      },
      "outputs": [
        {
          "name": "stdout",
          "output_type": "stream",
          "text": [
            "Renaissance Hotel 0.8347711765404134\n",
            "JW Marriott Hotel 0.8200234269714104\n"
          ]
        }
      ],
      "source": [
        "correlation_renaissance = data[data['hotel'] == 'Renaissance Hotel']['reserved_room_type'].corr(data[data['hotel'] == 'Renaissance Hotel']['assigned_room_type'])\n",
        "\n",
        "correlation_jw_marriott = data[data['hotel'] == 'JW Marriott Hotel']['reserved_room_type'].corr(data[data['hotel'] == 'JW Marriott Hotel']['assigned_room_type'])\n",
        "\n",
        "print('Renaissance Hotel', correlation_renaissance)\n",
        "print('JW Marriott Hotel', correlation_jw_marriott)"
      ]
    },
    {
      "cell_type": "code",
      "execution_count": null,
      "metadata": {
        "id": "UE2oQ2EcEivF",
        "outputId": "c80f9682-b700-4019-bc10-245df429702c"
      },
      "outputs": [
        {
          "data": {
            "image/png": "[encoded data removed]",
            "text/plain": [
              "<Figure size 800x600 with 2 Axes>"
            ]
          },
          "metadata": {},
          "output_type": "display_data"
        },
        {
          "data": {
            "image/png": "[encoded data removed]",
            "text/plain": [
              "<Figure size 800x600 with 2 Axes>"
            ]
          },
          "metadata": {},
          "output_type": "display_data"
        }
      ],
      "source": [
        "import seaborn as sns\n",
        "renaissance_data = data[data['hotel'] == 'Renaissance Hotel']\n",
        "jw_marriott_data = data[data['hotel'] == 'JW Marriott Hotel']\n",
        "\n",
        "# Select relevant columns for correlation analysis\n",
        "renaissance_corr_data = renaissance_data[['reserved_room_type', 'assigned_room_type']]\n",
        "jw_marriott_corr_data = jw_marriott_data[['reserved_room_type', 'assigned_room_type']]\n",
        "\n",
        "# Calculate correlation matrices\n",
        "renaissance_corr_matrix = renaissance_corr_data.corr()\n",
        "jw_marriott_corr_matrix = jw_marriott_corr_data.corr()\n",
        "\n",
        "# Create a correlation matrix plot for Renaissance Hotel\n",
        "plt.figure(figsize=(8, 6))\n",
        "sns.heatmap(renaissance_corr_matrix, annot=True, cmap='coolwarm', vmin=-1, vmax=1)\n",
        "plt.title('Correlation Matrix - Renaissance Hotel')\n",
        "plt.show()\n",
        "\n",
        "# Create a correlation matrix plot for JW Marriott Hotel\n",
        "plt.figure(figsize=(8, 6))\n",
        "sns.heatmap(jw_marriott_corr_matrix, annot=True, cmap='coolwarm', vmin=-1, vmax=1)\n",
        "plt.title('Correlation Matrix - JW Marriott Hotel')\n",
        "plt.show()"
      ]
    },
    {
      "cell_type": "markdown",
      "metadata": {
        "id": "u7vPEnfBKrC-"
      },
      "source": [
        "## Insight 3:"
      ]
    },
    {
      "cell_type": "markdown",
      "metadata": {
        "id": "uxtoK_qRKt1k"
      },
      "source": [
        "How number of bookings change throughout a year: best performing months for business? Years better than others?"
      ]
    },
    {
      "cell_type": "code",
      "execution_count": null,
      "metadata": {
        "colab": {
          "base_uri": "https://localhost:8080/",
          "height": 1000
        },
        "id": "14dAXJWiJtZC",
        "outputId": "92dbef71-d402-46c8-c918-cc05aec93173"
      },
      "outputs": [
        {
          "data": {
            "image/png": "[encoded data removed]",
            "text/plain": [
              "<Figure size 1200x600 with 1 Axes>"
            ]
          },
          "metadata": {},
          "output_type": "display_data"
        },
        {
          "data": {
            "image/png": "[encoded data removed]",
            "text/plain": [
              "<Figure size 1200x600 with 1 Axes>"
            ]
          },
          "metadata": {},
          "output_type": "display_data"
        },
        {
          "data": {
            "image/png": "[encoded data removed]",
            "text/plain": [
              "<Figure size 1200x600 with 1 Axes>"
            ]
          },
          "metadata": {},
          "output_type": "display_data"
        }
      ],
      "source": [
        "# Group the data by arrival year, month, and hotel to calculate the number of bookings\n",
        "seasonal_data = data.groupby(['arrival_date_year', 'arrival_date_month', 'hotel']).size().reset_index(name='booking_count')\n",
        "\n",
        "# Get the unique years in the dataset\n",
        "years = seasonal_data['arrival_date_year'].unique()\n",
        "\n",
        "# Create a line chart for each year\n",
        "for year in years:\n",
        "    # Filter the data for each hotel\n",
        "    JW_year_data = seasonal_data[(seasonal_data['arrival_date_year'] == year) & (seasonal_data['hotel'] == 'JW Marriott Hotel')]\n",
        "    Renaissance_year_data = seasonal_data[(seasonal_data['arrival_date_year'] == year) & (seasonal_data['hotel'] == 'Renaissance Hotel')]\n",
        "\n",
        "    # Create a line plot for the current year\n",
        "    plt.figure(figsize=(12, 6))\n",
        "    plt.plot(JW_year_data['arrival_date_month'], JW_year_data['booking_count'], marker='o', label ='JW')\n",
        "    plt.plot(Renaissance_year_data['arrival_date_month'], Renaissance_year_data['booking_count'], marker='o', label ='Renaissance')\n",
        "    plt.xlabel('Month')\n",
        "    plt.ylabel('Number of Bookings')\n",
        "    plt.title(f'Number of Hotel Bookings - {year}')\n",
        "    plt.xticks(rotation=45)\n",
        "    plt.legend()\n",
        "    plt.grid(True)\n",
        "    plt.show()"
      ]
    },
    {
      "cell_type": "markdown",
      "metadata": {
        "id": "w2RN9emIMaLI"
      },
      "source": [
        "JW has more bookings across the board. It's clearly the more popular hotel of the 2.\n",
        "\n",
        "Furthermore, we see a sharp decline during Winter months up until around early spring, that is when a spike in reservations emerge again.\n",
        "\n",
        "It also seems that 2018 held a noticeable decrease in reservations, which 2019 made up for with an overall increase greater than the 2 previous years."
      ]
    },
    {
      "cell_type": "markdown",
      "metadata": {
        "id": "Q-xxiXz6EivG"
      },
      "source": [
        "## Insight 4:"
      ]
    },
    {
      "cell_type": "markdown",
      "metadata": {
        "id": "lbHgM11DEivG"
      },
      "source": [
        "Discovering the average number of special requests for each customer type for both hotels."
      ]
    },
    {
      "cell_type": "code",
      "execution_count": null,
      "metadata": {
        "id": "bY9HW-PcEivG",
        "outputId": "36950550-e238-4548-b10a-ed9e814c4762"
      },
      "outputs": [
        {
          "data": {
            "image/png": "[encoded data removed]",
            "text/plain": [
              "<Figure size 1000x600 with 1 Axes>"
            ]
          },
          "metadata": {},
          "output_type": "display_data"
        }
      ],
      "source": [
        "# Group the data by hotel and customer type, calculate the average number of special requests\n",
        "grouped_data = data.groupby(['hotel', 'customer_type'])['total_of_special_requests'].mean()\n",
        "\n",
        "# Plot the grouped bar chart\n",
        "grouped_data.unstack().plot(kind='bar', figsize=(10, 6))\n",
        "\n",
        "# Set the axis labels and title\n",
        "plt.xlabel('Customer Type')\n",
        "plt.ylabel('Average Number of Special Requests')\n",
        "plt.title('Average Number of Special Requests by Customer Type and Hotel')\n",
        "plt.legend()\n",
        "plt.show()"
      ]
    },
    {
      "cell_type": "markdown",
      "metadata": {
        "id": "Xjw7ge2dEivH"
      },
      "source": [
        "This graph will help the hotels identify which type of customers tend to have more special requests. The hotel will know how to serve different types customers and increase customer loyalty."
      ]
    },
    {
      "cell_type": "markdown",
      "metadata": {
        "id": "QqNAMH86EivH"
      },
      "source": [
        "## Extra insight: What is the favourite room type for returning customers"
      ]
    },
    {
      "cell_type": "markdown",
      "metadata": {
        "id": "_zeKCrN7EivH"
      },
      "source": [
        "We wil check the reserved room type, as that's what they initially wanted"
      ]
    },
    {
      "cell_type": "code",
      "execution_count": null,
      "metadata": {
        "id": "LUKPlM_jEivH",
        "outputId": "eebc43ac-0db2-4ea8-dee7-a21b7eb9f92c"
      },
      "outputs": [
        {
          "data": {
            "text/plain": [
              "0    1147\n",
              "3     165\n",
              "4      70\n",
              "5      25\n",
              "6      18\n",
              "7       8\n",
              "2       7\n",
              "1       4\n",
              "Name: reserved_room_type, dtype: int64"
            ]
          },
          "execution_count": 107,
          "metadata": {},
          "output_type": "execute_result"
        }
      ],
      "source": [
        "returning_customers = data[data['is_repeated_guest'] == 1]\n",
        "# Count the occurrences of each room type among returning customers\n",
        "room_type_counts = returning_customers['reserved_room_type'].value_counts()\n",
        "room_type_counts"
      ]
    },
    {
      "cell_type": "markdown",
      "metadata": {
        "id": "rkcKkduBEivI"
      },
      "source": [
        "## Extra insight: Which hotel has the most number of cancelations"
      ]
    },
    {
      "cell_type": "code",
      "execution_count": null,
      "metadata": {
        "colab": {
          "base_uri": "https://localhost:8080/",
          "height": 585
        },
        "id": "7ES2pZ1zJocP",
        "outputId": "839d6dec-ea5f-4a60-a9f4-c97245476e75"
      },
      "outputs": [
        {
          "data": {
            "image/png": "[encoded data removed]",
            "text/plain": [
              "<Figure size 640x480 with 1 Axes>"
            ]
          },
          "metadata": {},
          "output_type": "display_data"
        }
      ],
      "source": [
        "no_of_canceled = data[data['is_canceled'] == 1].groupby('hotel').size()\n",
        "\n",
        "no_of_canceled.plot(kind='bar')\n",
        "\n",
        "plt.xlabel('Hotel')\n",
        "plt.ylabel('Number of cancelations')\n",
        "plt.title('Total number of canceled bookings per hotel')\n",
        "plt.show()"
      ]
    },
    {
      "cell_type": "markdown",
      "metadata": {
        "id": "OVXpuhO_NLVp"
      },
      "source": [
        "It makes sense that JW would have more cancellations simply due to the fact that it has more reservations overall. We will develop this insight later."
      ]
    },
    {
      "cell_type": "markdown",
      "metadata": {
        "id": "jr-LmpW3EivJ"
      },
      "source": [
        "# Sources\n",
        "https://www.geeksforgeeks.org/python-pandas-dataframe-groupby/\n",
        "\n",
        "https://stackoverflow.com/questions/39778686/pandas-reset-index-after-groupby-value-counts\n",
        "\n",
        "https://www.w3schools.com/python/matplotlib_line.asp\n",
        "\n",
        "https://stackoverflow.com/questions/62904946/pandas-groubpy-plotting-with-unstack\n",
        "\n",
        "https://www.statology.org/pandas-groupby-plot/\n",
        "\n",
        "https://towardsdatascience.com/seaborn-heatmap-for-visualising-data-correlations-66cbef09c1fe\n"
      ]
    },
    {
      "cell_type": "markdown",
      "metadata": {
        "id": "vY2Hf-mkJgm5"
      },
      "source": [
        "# Queries"
      ]
    },
    {
      "cell_type": "code",
      "execution_count": null,
      "metadata": {
        "id": "ue9kv95mEivK",
        "outputId": "3beb95d6-5a3c-4297-d135-2529ce6bb533"
      },
      "outputs": [
        {
          "name": "stdout",
          "output_type": "stream",
          "text": [
            "Requirement already satisfied: pyspark in c:\\users\\youssef kheld 2\\appdata\\local\\programs\\python\\python310\\lib\\site-packages (3.4.0)\n",
            "Requirement already satisfied: py4j==0.10.9.7 in c:\\users\\youssef kheld 2\\appdata\\local\\programs\\python\\python310\\lib\\site-packages (from pyspark) (0.10.9.7)\n"
          ]
        },
        {
          "name": "stderr",
          "output_type": "stream",
          "text": [
            "\n",
            "[notice] A new release of pip is available: 23.0.1 -> 23.1.2\n",
            "[notice] To update, run: python.exe -m pip install --upgrade pip\n"
          ]
        },
        {
          "name": "stdout",
          "output_type": "stream",
          "text": [
            "Requirement already satisfied: findspark in c:\\users\\youssef kheld 2\\appdata\\local\\programs\\python\\python310\\lib\\site-packages (2.0.1)\n"
          ]
        },
        {
          "name": "stderr",
          "output_type": "stream",
          "text": [
            "\n",
            "[notice] A new release of pip is available: 23.0.1 -> 23.1.2\n",
            "[notice] To update, run: python.exe -m pip install --upgrade pip\n"
          ]
        }
      ],
      "source": [
        "# Installing required packages\n",
        "!pip install pyspark\n",
        "!pip install findspark"
      ]
    },
    {
      "cell_type": "code",
      "execution_count": null,
      "metadata": {
        "id": "HTKYHv4eEivL"
      },
      "outputs": [],
      "source": [
        "import findspark\n",
        "findspark.init()"
      ]
    },
    {
      "cell_type": "code",
      "execution_count": null,
      "metadata": {
        "id": "aZP8506fEivL"
      },
      "outputs": [],
      "source": [
        "import pandas as pd\n",
        "from pyspark import SparkContext, SparkConf\n",
        "from pyspark.sql import SparkSession"
      ]
    },
    {
      "cell_type": "code",
      "execution_count": null,
      "metadata": {
        "id": "4RMPAcJEEivM"
      },
      "outputs": [],
      "source": [
        "# Creating a spark context class\n",
        "sc = SparkContext()\n",
        "\n",
        "# Creating a spark session\n",
        "spark = SparkSession \\\n",
        "    .builder \\\n",
        "    .appName(\"Python Spark DataFrames basic example\") \\\n",
        "    .config(\"spark.some.config.option\", \"some-value\") \\\n",
        "    .getOrCreate()"
      ]
    },
    {
      "cell_type": "code",
      "execution_count": null,
      "metadata": {
        "id": "Vi61x42rEivM",
        "outputId": "73124062-63d9-40bd-f433-dabab45f35f0"
      },
      "outputs": [
        {
          "data": {
            "text/html": [
              "\n",
              "            <div>\n",
              "                <p><b>SparkSession - in-memory</b></p>\n",
              "                \n",
              "        <div>\n",
              "            <p><b>SparkContext</b></p>\n",
              "\n",
              "            <p><a href=\"http://DESKTOP-062UMO9:4040\">Spark UI</a></p>\n",
              "\n",
              "            <dl>\n",
              "              <dt>Version</dt>\n",
              "                <dd><code>v3.4.0</code></dd>\n",
              "              <dt>Master</dt>\n",
              "                <dd><code>local[*]</code></dd>\n",
              "              <dt>AppName</dt>\n",
              "                <dd><code>pyspark-shell</code></dd>\n",
              "            </dl>\n",
              "        </div>\n",
              "        \n",
              "            </div>\n",
              "        "
            ],
            "text/plain": [
              "<pyspark.sql.session.SparkSession at 0x15c38f29b10>"
            ]
          },
          "execution_count": 33,
          "metadata": {},
          "output_type": "execute_result"
        }
      ],
      "source": [
        "spark"
      ]
    },
    {
      "cell_type": "code",
      "execution_count": null,
      "metadata": {
        "id": "1wFa7nVaEivN"
      },
      "outputs": [],
      "source": [
        "# clean_df = pd.read_csv('cleaned.csv')\n",
        "sdf = spark.createDataFrame(data)"
      ]
    },
    {
      "cell_type": "code",
      "execution_count": null,
      "metadata": {
        "id": "I8jVk-aXEivN",
        "outputId": "dfeeda54-1e98-417c-fe06-0ec98025a315"
      },
      "outputs": [
        {
          "name": "stdout",
          "output_type": "stream",
          "text": [
            "root\n",
            " |-- Unnamed: 0: long (nullable = true)\n",
            " |-- hotel: string (nullable = true)\n",
            " |-- is_canceled: long (nullable = true)\n",
            " |-- lead_time: long (nullable = true)\n",
            " |-- arrival_date_year: long (nullable = true)\n",
            " |-- arrival_date_month: long (nullable = true)\n",
            " |-- arrival_date_week_number: long (nullable = true)\n",
            " |-- arrival_date_day_of_month: long (nullable = true)\n",
            " |-- stays_in_weekend_nights: long (nullable = true)\n",
            " |-- stays_in_week_nights: long (nullable = true)\n",
            " |-- adults: long (nullable = true)\n",
            " |-- children: double (nullable = true)\n",
            " |-- babies: long (nullable = true)\n",
            " |-- meal: long (nullable = true)\n",
            " |-- country: long (nullable = true)\n",
            " |-- distribution_channel: long (nullable = true)\n",
            " |-- is_repeated_guest: long (nullable = true)\n",
            " |-- previous_cancellations: long (nullable = true)\n",
            " |-- previous_bookings_not_canceled: long (nullable = true)\n",
            " |-- reserved_room_type: long (nullable = true)\n",
            " |-- assigned_room_type: long (nullable = true)\n",
            " |-- booking_changes: long (nullable = true)\n",
            " |-- deposit_type: long (nullable = true)\n",
            " |-- agent: double (nullable = true)\n",
            " |-- days_in_waiting_list: long (nullable = true)\n",
            " |-- customer_type: long (nullable = true)\n",
            " |-- adr: double (nullable = true)\n",
            " |-- required_car_parking_spaces: long (nullable = true)\n",
            " |-- total_of_special_requests: long (nullable = true)\n",
            "\n"
          ]
        }
      ],
      "source": [
        "sdf.printSchema()"
      ]
    },
    {
      "cell_type": "code",
      "execution_count": null,
      "metadata": {
        "id": "EAebx1IqEivN",
        "outputId": "7f505403-0892-4655-c9ee-3169175e3b0e"
      },
      "outputs": [
        {
          "name": "stdout",
          "output_type": "stream",
          "text": [
            "+----------+-----------------+-----------+---------+-----------------+------------------+------------------------+-------------------------+-----------------------+--------------------+------+--------+------+----+-------+--------------------+-----------------+----------------------+------------------------------+------------------+------------------+---------------+------------+-----+--------------------+-------------+------+---------------------------+-------------------------+\n",
            "|Unnamed: 0|            hotel|is_canceled|lead_time|arrival_date_year|arrival_date_month|arrival_date_week_number|arrival_date_day_of_month|stays_in_weekend_nights|stays_in_week_nights|adults|children|babies|meal|country|distribution_channel|is_repeated_guest|previous_cancellations|previous_bookings_not_canceled|reserved_room_type|assigned_room_type|booking_changes|deposit_type|agent|days_in_waiting_list|customer_type|   adr|required_car_parking_spaces|total_of_special_requests|\n",
            "+----------+-----------------+-----------+---------+-----------------+------------------+------------------------+-------------------------+-----------------------+--------------------+------+--------+------+----+-------+--------------------+-----------------+----------------------+------------------------------+------------------+------------------+---------------+------------+-----+--------------------+-------------+------+---------------------------+-------------------------+\n",
            "|         3|Renaissance Hotel|          0|       13|             2018|                 5|                      27|                        1|                      0|                   1|     1|     0.0|     0|   0|     59|                   0|                0|                     0|                             0|                 0|                 0|              0|           0|304.0|                   0|            2|  75.0|                          0|                        0|\n",
            "|         4|Renaissance Hotel|          0|       14|             2018|                 5|                      27|                        1|                      0|                   2|     2|     0.0|     0|   0|     59|                   3|                0|                     0|                             0|                 0|                 0|              0|           0|240.0|                   0|            2|  98.0|                          0|                        1|\n",
            "|         5|Renaissance Hotel|          0|       14|             2018|                 5|                      27|                        1|                      0|                   2|     2|     0.0|     0|   0|     59|                   3|                0|                     0|                             0|                 0|                 0|              0|           0|240.0|                   0|            2|  98.0|                          0|                        1|\n",
            "|         7|Renaissance Hotel|          0|        9|             2018|                 5|                      27|                        1|                      0|                   2|     2|     0.0|     0|   1|    134|                   1|                0|                     0|                             0|                 2|                 2|              0|           0|303.0|                   0|            2| 103.0|                          0|                        1|\n",
            "|         8|Renaissance Hotel|          1|       85|             2018|                 5|                      27|                        1|                      0|                   3|     2|     0.0|     0|   0|    134|                   3|                0|                     0|                             0|                 0|                 0|              0|           0|240.0|                   0|            2|  82.0|                          0|                        1|\n",
            "|         9|Renaissance Hotel|          1|       75|             2018|                 5|                      27|                        1|                      0|                   3|     2|     0.0|     0|   2|    134|                   3|                0|                     0|                             0|                 3|                 3|              0|           0| 15.0|                   0|            2| 105.5|                          0|                        0|\n",
            "|        10|Renaissance Hotel|          1|       23|             2018|                 5|                      27|                        1|                      0|                   4|     2|     0.0|     0|   0|    134|                   3|                0|                     0|                             0|                 4|                 4|              0|           0|240.0|                   0|            2| 123.0|                          0|                        0|\n",
            "|        11|Renaissance Hotel|          0|       35|             2018|                 5|                      27|                        1|                      0|                   4|     2|     0.0|     0|   2|    134|                   3|                0|                     0|                             0|                 3|                 3|              0|           0|240.0|                   0|            2| 145.0|                          0|                        0|\n",
            "|        12|Renaissance Hotel|          0|       68|             2018|                 5|                      27|                        1|                      0|                   4|     2|     0.0|     0|   0|    166|                   3|                0|                     0|                             0|                 3|                 4|              0|           0|240.0|                   0|            2|  97.0|                          0|                        3|\n",
            "|        13|Renaissance Hotel|          0|       18|             2018|                 5|                      27|                        1|                      0|                   4|     2|     1.0|     0|   2|     51|                   3|                0|                     0|                             0|                 6|                 6|              1|           0|241.0|                   0|            2|154.77|                          0|                        1|\n",
            "+----------+-----------------+-----------+---------+-----------------+------------------+------------------------+-------------------------+-----------------------+--------------------+------+--------+------+----+-------+--------------------+-----------------+----------------------+------------------------------+------------------+------------------+---------------+------------+-----+--------------------+-------------+------+---------------------------+-------------------------+\n",
            "only showing top 10 rows\n",
            "\n"
          ]
        }
      ],
      "source": [
        "sdf.show(10)"
      ]
    },
    {
      "cell_type": "code",
      "execution_count": null,
      "metadata": {
        "id": "zkf6V8_sEivQ"
      },
      "outputs": [],
      "source": [
        "sdf.createOrReplaceTempView(\"hotels_table\")"
      ]
    },
    {
      "cell_type": "markdown",
      "metadata": {
        "id": "pyJY6vzpEivR"
      },
      "source": [
        "# JW Promotion 1"
      ]
    },
    {
      "cell_type": "markdown",
      "metadata": {
        "id": "LsEcA55LEivR"
      },
      "source": [
        "Families who have at least a child and a baby will recieve a discount"
      ]
    },
    {
      "cell_type": "code",
      "execution_count": null,
      "metadata": {
        "id": "IZEcCQwAEivS",
        "outputId": "24f19e6f-beba-4849-a5e9-6becdd6b23a8"
      },
      "outputs": [
        {
          "name": "stdout",
          "output_type": "stream",
          "text": [
            "+------------------------+------------------+\n",
            "|eligible_family_bookings|          avg(adr)|\n",
            "+------------------------+------------------+\n",
            "|                      47|162.59765957446808|\n",
            "+------------------------+------------------+\n",
            "\n"
          ]
        }
      ],
      "source": [
        "spark.sql(\"SELECT COUNT(*) AS eligible_family_bookings, AVG(adr) FROM hotels_table WHERE hotel == 'JW Marriott Hotel' AND (children > 0 AND babies > 0 AND adults > 0)\").show()"
      ]
    },
    {
      "cell_type": "markdown",
      "metadata": {
        "id": "yh_f4a-lEivS"
      },
      "source": [
        "# JW Promotion 2"
      ]
    },
    {
      "cell_type": "markdown",
      "metadata": {
        "id": "Sykm0RxNEivT"
      },
      "source": [
        "Loyal customers will recieve a discount. Customers are loyal if they booked from the same hotel before."
      ]
    },
    {
      "cell_type": "code",
      "execution_count": null,
      "metadata": {
        "id": "r6LhuVqHEivT",
        "outputId": "2a7f98c7-984c-4eda-9760-6921abd29533"
      },
      "outputs": [
        {
          "name": "stdout",
          "output_type": "stream",
          "text": [
            "+---------------+\n",
            "|loyal_customers|\n",
            "+---------------+\n",
            "|            717|\n",
            "+---------------+\n",
            "\n"
          ]
        }
      ],
      "source": [
        "spark.sql(\"SELECT COUNT(*) AS loyal_customers FROM hotels_table WHERE hotel == 'JW Marriott Hotel' AND is_repeated_guest == 1\").show()"
      ]
    },
    {
      "cell_type": "markdown",
      "metadata": {
        "id": "wo9TxeRlEivT"
      },
      "source": [
        "# JW Promotion 3"
      ]
    },
    {
      "cell_type": "markdown",
      "metadata": {
        "id": "AljUSK0SEivU"
      },
      "source": [
        "Summer holiday promotion for customers staying for at least 2 weeks"
      ]
    },
    {
      "cell_type": "code",
      "execution_count": null,
      "metadata": {
        "id": "AMs5yOCnEivU",
        "outputId": "fb9cc566-d4bc-4a61-fd42-dc55ec6ac02e"
      },
      "outputs": [
        {
          "name": "stdout",
          "output_type": "stream",
          "text": [
            "+-----------------------------+\n",
            "|two_week_stay_summer_bookings|\n",
            "+-----------------------------+\n",
            "|                           49|\n",
            "+-----------------------------+\n",
            "\n"
          ]
        }
      ],
      "source": [
        "spark.sql(\"SELECT COUNT(*) AS two_week_stay_summer_bookings FROM hotels_table WHERE hotel == 'JW Marriott Hotel' AND arrival_date_month IN (5, 6, 7) AND (stays_in_weekend_nights + stays_in_week_nights >= 14)\").show()"
      ]
    },
    {
      "cell_type": "markdown",
      "metadata": {
        "id": "-jJTBXkMEivU"
      },
      "source": [
        "# Renaissance Promotion 1"
      ]
    },
    {
      "cell_type": "markdown",
      "metadata": {
        "id": "O1Fyh9ySEivU"
      },
      "source": [
        "Organaize a festival/event for the hotel members during the most popular booking months"
      ]
    },
    {
      "cell_type": "code",
      "execution_count": null,
      "metadata": {
        "id": "LCTXWjJQEivV",
        "outputId": "0c0beb95-62e0-4b1b-8200-4c7500dc543b"
      },
      "outputs": [
        {
          "name": "stdout",
          "output_type": "stream",
          "text": [
            "+--------------+------------------+\n",
            "|no_of_bookings|arrival_date_month|\n",
            "+--------------+------------------+\n",
            "|          4351|                 1|\n",
            "|          4036|                 5|\n",
            "|          2886|                 0|\n",
            "|          2879|                 8|\n",
            "|          2640|                 6|\n",
            "|          2578|                11|\n",
            "|          2395|                10|\n",
            "|          2389|                 7|\n",
            "|          2268|                 3|\n",
            "|          1959|                 2|\n",
            "|          1884|                 9|\n",
            "|          1448|                 4|\n",
            "+--------------+------------------+\n",
            "\n"
          ]
        }
      ],
      "source": [
        "# Query the total number of bookings for each month so that the hotel can organize the festival/event in the month with highest bookings\n",
        "spark.sql(\"SELECT COUNT(*) AS no_of_bookings, arrival_date_month FROM hotels_table WHERE hotel == 'Renaissance Hotel' GROUP BY arrival_date_month ORDER BY no_of_bookings DESC\").show()"
      ]
    },
    {
      "cell_type": "markdown",
      "metadata": {
        "id": "EjeGRlDLEivV"
      },
      "source": [
        "Hotel can organize events at February and June as they have the highest number of bookings"
      ]
    },
    {
      "cell_type": "markdown",
      "metadata": {
        "id": "z4flSxfvEivV"
      },
      "source": [
        "# Renaissance Promotion 2"
      ]
    },
    {
      "cell_type": "markdown",
      "metadata": {
        "id": "Dy1vY-2pEivV"
      },
      "source": [
        "Promote the least booked meal"
      ]
    },
    {
      "cell_type": "code",
      "execution_count": null,
      "metadata": {
        "id": "talKNpZyEivV",
        "outputId": "39a9aafa-608e-4191-ef87-1cd2d5158e58"
      },
      "outputs": [
        {
          "name": "stdout",
          "output_type": "stream",
          "text": [
            "+--------------+----+\n",
            "|no_of_bookings|meal|\n",
            "+--------------+----+\n",
            "|            50|   3|\n",
            "|           635|   1|\n",
            "|           830|   4|\n",
            "|          7120|   2|\n",
            "|         23078|   0|\n",
            "+--------------+----+\n",
            "\n"
          ]
        }
      ],
      "source": [
        "# Query the least booked meal\n",
        "spark.sql(\"SELECT COUNT(*) AS no_of_bookings, meal FROM hotels_table WHERE hotel == 'Renaissance Hotel' GROUP BY meal ORDER BY no_of_bookings ASC\").show()"
      ]
    },
    {
      "cell_type": "markdown",
      "metadata": {
        "id": "wdexF7cvEivW"
      },
      "source": [
        "# Renaissance Promotion 3"
      ]
    },
    {
      "cell_type": "markdown",
      "metadata": {
        "id": "BUafSqsLEivW"
      },
      "source": [
        "Flexible booking experience. Allow customers the flexibility to modify their bookings without additional fees or any conflict."
      ]
    },
    {
      "cell_type": "code",
      "execution_count": null,
      "metadata": {
        "id": "1Z7bgD1qEivX",
        "outputId": "8346bb2e-813a-43eb-c85d-3027a4383e72"
      },
      "outputs": [
        {
          "name": "stdout",
          "output_type": "stream",
          "text": [
            "+-----------------------+\n",
            "|average_booking_changes|\n",
            "+-----------------------+\n",
            "|     1.4628469113697404|\n",
            "+-----------------------+\n",
            "\n"
          ]
        }
      ],
      "source": [
        "spark.sql(\"SELECT AVG(booking_changes) AS average_booking_changes FROM hotels_table WHERE hotel == 'Renaissance Hotel' AND booking_changes > 0 \").show()"
      ]
    },
    {
      "cell_type": "markdown",
      "metadata": {
        "id": "YY2XuDZIAVrn"
      },
      "source": [
        "# Machine Learning"
      ]
    },
    {
      "cell_type": "markdown",
      "metadata": {
        "id": "eHcoMWHCBThf"
      },
      "source": [
        "## Multilayer Perceptron Neural Networks"
      ]
    },
    {
      "cell_type": "code",
      "execution_count": null,
      "metadata": {
        "colab": {
          "base_uri": "https://localhost:8080/"
        },
        "id": "gyOQln6CAaNx",
        "outputId": "f3d1bb46-18ff-4e3f-80e6-b5918f23469c"
      },
      "outputs": [
        {
          "name": "stdout",
          "output_type": "stream",
          "text": [
            "Requirement already satisfied: pyspark in c:\\users\\youssef kheld 2\\appdata\\local\\programs\\python\\python310\\lib\\site-packages (3.4.0)\n",
            "Requirement already satisfied: py4j==0.10.9.7 in c:\\users\\youssef kheld 2\\appdata\\local\\programs\\python\\python310\\lib\\site-packages (from pyspark) (0.10.9.7)\n"
          ]
        },
        {
          "name": "stderr",
          "output_type": "stream",
          "text": [
            "\n",
            "[notice] A new release of pip is available: 23.0.1 -> 23.1.2\n",
            "[notice] To update, run: python.exe -m pip install --upgrade pip\n"
          ]
        }
      ],
      "source": [
        "!pip install pyspark"
      ]
    },
    {
      "cell_type": "code",
      "execution_count": null,
      "metadata": {
        "colab": {
          "base_uri": "https://localhost:8080/"
        },
        "id": "6ehmGWfqCbUL",
        "outputId": "4b5b87e1-9f21-4854-c841-16f90953292d"
      },
      "outputs": [
        {
          "name": "stdout",
          "output_type": "stream",
          "text": [
            "root\n",
            " |-- Unnamed: 0: integer (nullable = true)\n",
            " |-- hotel: string (nullable = true)\n",
            " |-- is_canceled: integer (nullable = true)\n",
            " |-- lead_time: integer (nullable = true)\n",
            " |-- arrival_date_year: integer (nullable = true)\n",
            " |-- arrival_date_month: integer (nullable = true)\n",
            " |-- arrival_date_week_number: integer (nullable = true)\n",
            " |-- arrival_date_day_of_month: integer (nullable = true)\n",
            " |-- stays_in_weekend_nights: integer (nullable = true)\n",
            " |-- stays_in_week_nights: integer (nullable = true)\n",
            " |-- adults: integer (nullable = true)\n",
            " |-- children: double (nullable = true)\n",
            " |-- babies: integer (nullable = true)\n",
            " |-- meal: integer (nullable = true)\n",
            " |-- country: integer (nullable = true)\n",
            " |-- distribution_channel: integer (nullable = true)\n",
            " |-- is_repeated_guest: integer (nullable = true)\n",
            " |-- previous_cancellations: integer (nullable = true)\n",
            " |-- previous_bookings_not_canceled: integer (nullable = true)\n",
            " |-- reserved_room_type: integer (nullable = true)\n",
            " |-- assigned_room_type: integer (nullable = true)\n",
            " |-- booking_changes: integer (nullable = true)\n",
            " |-- deposit_type: integer (nullable = true)\n",
            " |-- agent: double (nullable = true)\n",
            " |-- days_in_waiting_list: integer (nullable = true)\n",
            " |-- customer_type: integer (nullable = true)\n",
            " |-- adr: double (nullable = true)\n",
            " |-- required_car_parking_spaces: integer (nullable = true)\n",
            " |-- total_of_special_requests: integer (nullable = true)\n",
            "\n"
          ]
        }
      ],
      "source": [
        "from pyspark.ml.linalg import Vectors\n",
        "from pyspark.sql import SparkSession\n",
        "from pyspark.ml import Pipeline\n",
        "from pyspark.ml.feature import VectorAssembler\n",
        "from pyspark.ml.classification import LogisticRegression\n",
        "from sklearn.metrics import accuracy_score\n",
        "\n",
        "spark = SparkSession.builder.appName('hotels').getOrCreate()\n",
        "df = spark.read.csv('cleaned.csv', header = True, inferSchema = True)\n",
        "df.printSchema()\n",
        "\n",
        "# initialization source is the lab (3 - Mobile Price Prediction Solution (Assignment solution))"
      ]
    },
    {
      "cell_type": "code",
      "execution_count": null,
      "metadata": {
        "id": "Q51Tgp3RmFHM"
      },
      "outputs": [],
      "source": [
        "# to fix the next line of code's would-be error (IllegalArgumentException: Data type string of column hotel is not supported.\n",
        "# Data type date of column arrival_date is not supported.), we need to handle hotel & arrival_date columns:\n",
        "\n",
        "from pyspark.sql.functions import *\n",
        "from pyspark.ml.feature import VectorAssembler, StringIndexer\n",
        "\n",
        "# Convert the 'hotel' column from string to numeric\n",
        "stringIndexer = StringIndexer(inputCol='hotel', outputCol='hotel_index')\n",
        "indexed = stringIndexer.fit(df).transform(df)\n",
        "\n",
        "# Convert the 'arrival_date' column to timestamp\n",
        "# indexed = indexed.withColumn('arrival_date', to_timestamp('arrival_date', 'yyyy-MM-dd'))"
      ]
    },
    {
      "cell_type": "code",
      "execution_count": null,
      "metadata": {
        "colab": {
          "base_uri": "https://localhost:8080/"
        },
        "id": "rRJs3VbbgsGO",
        "outputId": "0a43183c-7784-473d-c2a5-665f79fcf10a"
      },
      "outputs": [
        {
          "name": "stdout",
          "output_type": "stream",
          "text": [
            "+----------+-----------------+-----------+---------+-----------------+------------------+------------------------+-------------------------+-----------------------+--------------------+------+--------+------+----+-------+--------------------+-----------------+----------------------+------------------------------+------------------+------------------+---------------+------------+-----+--------------------+-------------+-----+---------------------------+-------------------------+-----------+--------------------+\n",
            "|Unnamed: 0|            hotel|is_canceled|lead_time|arrival_date_year|arrival_date_month|arrival_date_week_number|arrival_date_day_of_month|stays_in_weekend_nights|stays_in_week_nights|adults|children|babies|meal|country|distribution_channel|is_repeated_guest|previous_cancellations|previous_bookings_not_canceled|reserved_room_type|assigned_room_type|booking_changes|deposit_type|agent|days_in_waiting_list|customer_type|  adr|required_car_parking_spaces|total_of_special_requests|hotel_index|            features|\n",
            "+----------+-----------------+-----------+---------+-----------------+------------------+------------------------+-------------------------+-----------------------+--------------------+------+--------+------+----+-------+--------------------+-----------------+----------------------+------------------------------+------------------+------------------+---------------+------------+-----+--------------------+-------------+-----+---------------------------+-------------------------+-----------+--------------------+\n",
            "|         3|Renaissance Hotel|          0|       13|             2018|                 5|                      27|                        1|                      0|                   1|     1|     0.0|     0|   0|     59|                   0|                0|                     0|                             0|                 0|                 0|              0|           0|304.0|                   0|            2| 75.0|                          0|                        0|        1.0|(27,[0,1,2,3,4,5,...|\n",
            "|         4|Renaissance Hotel|          0|       14|             2018|                 5|                      27|                        1|                      0|                   2|     2|     0.0|     0|   0|     59|                   3|                0|                     0|                             0|                 0|                 0|              0|           0|240.0|                   0|            2| 98.0|                          0|                        1|        1.0|(27,[0,1,2,3,4,5,...|\n",
            "|         5|Renaissance Hotel|          0|       14|             2018|                 5|                      27|                        1|                      0|                   2|     2|     0.0|     0|   0|     59|                   3|                0|                     0|                             0|                 0|                 0|              0|           0|240.0|                   0|            2| 98.0|                          0|                        1|        1.0|(27,[0,1,2,3,4,5,...|\n",
            "|         7|Renaissance Hotel|          0|        9|             2018|                 5|                      27|                        1|                      0|                   2|     2|     0.0|     0|   1|    134|                   1|                0|                     0|                             0|                 2|                 2|              0|           0|303.0|                   0|            2|103.0|                          0|                        1|        1.0|[1.0,2018.0,5.0,2...|\n",
            "|         8|Renaissance Hotel|          1|       85|             2018|                 5|                      27|                        1|                      0|                   3|     2|     0.0|     0|   0|    134|                   3|                0|                     0|                             0|                 0|                 0|              0|           0|240.0|                   0|            2| 82.0|                          0|                        1|        1.0|(27,[0,1,2,3,4,5,...|\n",
            "+----------+-----------------+-----------+---------+-----------------+------------------+------------------------+-------------------------+-----------------------+--------------------+------+--------+------+----+-------+--------------------+-----------------+----------------------+------------------------------+------------------+------------------+---------------+------------+-----+--------------------+-------------+-----+---------------------------+-------------------------+-----------+--------------------+\n",
            "only showing top 5 rows\n",
            "\n"
          ]
        }
      ],
      "source": [
        "from pyspark.sql.functions import *\n",
        "from pyspark.ml.feature import VectorAssembler, StringIndexer\n",
        "\n",
        "# here we have to take the input parameters which are the 28 input columns, and label them under the umbrella of 'features'\n",
        "\n",
        "vectorAssembler = VectorAssembler(inputCols = ['hotel_index','arrival_date_year','arrival_date_month', 'arrival_date_week_number', 'arrival_date_day_of_month' ,'lead_time', 'stays_in_weekend_nights', 'stays_in_week_nights', 'adults', 'children',\n",
        "'babies', 'meal', 'country', 'distribution_channel', 'is_repeated_guest', 'previous_cancellations', 'previous_bookings_not_canceled', 'reserved_room_type',\n",
        "'assigned_room_type', 'booking_changes', 'deposit_type', 'agent', 'days_in_waiting_list', 'customer_type', 'adr', 'required_car_parking_spaces',\n",
        "'total_of_special_requests'], outputCol = 'features')\n",
        "v_hotel_df = vectorAssembler.transform(indexed)\n",
        "v_hotel_df.show(5)"
      ]
    },
    {
      "cell_type": "code",
      "execution_count": null,
      "metadata": {
        "colab": {
          "base_uri": "https://localhost:8080/"
        },
        "id": "vL6opnL_gurw",
        "outputId": "b8222562-05b5-43df-e625-20d1ec328fc5"
      },
      "outputs": [
        {
          "name": "stdout",
          "output_type": "stream",
          "text": [
            "+----------+-----------------+-----------+---------+-----------------+------------------+------------------------+-------------------------+-----------------------+--------------------+------+--------+------+----+-------+--------------------+-----------------+----------------------+------------------------------+------------------+------------------+---------------+------------+-----+--------------------+-------------+-----+---------------------------+-------------------------+-----------+--------------------+-----+\n",
            "|Unnamed: 0|            hotel|is_canceled|lead_time|arrival_date_year|arrival_date_month|arrival_date_week_number|arrival_date_day_of_month|stays_in_weekend_nights|stays_in_week_nights|adults|children|babies|meal|country|distribution_channel|is_repeated_guest|previous_cancellations|previous_bookings_not_canceled|reserved_room_type|assigned_room_type|booking_changes|deposit_type|agent|days_in_waiting_list|customer_type|  adr|required_car_parking_spaces|total_of_special_requests|hotel_index|            features|label|\n",
            "+----------+-----------------+-----------+---------+-----------------+------------------+------------------------+-------------------------+-----------------------+--------------------+------+--------+------+----+-------+--------------------+-----------------+----------------------+------------------------------+------------------+------------------+---------------+------------+-----+--------------------+-------------+-----+---------------------------+-------------------------+-----------+--------------------+-----+\n",
            "|         3|Renaissance Hotel|          0|       13|             2018|                 5|                      27|                        1|                      0|                   1|     1|     0.0|     0|   0|     59|                   0|                0|                     0|                             0|                 0|                 0|              0|           0|304.0|                   0|            2| 75.0|                          0|                        0|        1.0|(27,[0,1,2,3,4,5,...|  0.0|\n",
            "|         4|Renaissance Hotel|          0|       14|             2018|                 5|                      27|                        1|                      0|                   2|     2|     0.0|     0|   0|     59|                   3|                0|                     0|                             0|                 0|                 0|              0|           0|240.0|                   0|            2| 98.0|                          0|                        1|        1.0|(27,[0,1,2,3,4,5,...|  0.0|\n",
            "|         5|Renaissance Hotel|          0|       14|             2018|                 5|                      27|                        1|                      0|                   2|     2|     0.0|     0|   0|     59|                   3|                0|                     0|                             0|                 0|                 0|              0|           0|240.0|                   0|            2| 98.0|                          0|                        1|        1.0|(27,[0,1,2,3,4,5,...|  0.0|\n",
            "|         7|Renaissance Hotel|          0|        9|             2018|                 5|                      27|                        1|                      0|                   2|     2|     0.0|     0|   1|    134|                   1|                0|                     0|                             0|                 2|                 2|              0|           0|303.0|                   0|            2|103.0|                          0|                        1|        1.0|[1.0,2018.0,5.0,2...|  0.0|\n",
            "|         8|Renaissance Hotel|          1|       85|             2018|                 5|                      27|                        1|                      0|                   3|     2|     0.0|     0|   0|    134|                   3|                0|                     0|                             0|                 0|                 0|              0|           0|240.0|                   0|            2| 82.0|                          0|                        1|        1.0|(27,[0,1,2,3,4,5,...|  1.0|\n",
            "+----------+-----------------+-----------+---------+-----------------+------------------+------------------------+-------------------------+-----------------------+--------------------+------+--------+------+----+-------+--------------------+-----------------+----------------------+------------------------------+------------------+------------------+---------------+------------+-----+--------------------+-------------+-----+---------------------------+-------------------------+-----------+--------------------+-----+\n",
            "only showing top 5 rows\n",
            "\n"
          ]
        }
      ],
      "source": [
        "# the same thing is done here but labeling the output 'Spam' column as label (our y value)\n",
        "indexer = StringIndexer(inputCol = 'is_canceled', outputCol = 'label')\n",
        "i_v_hotel_df = indexer.fit(v_hotel_df).transform(v_hotel_df)\n",
        "i_v_hotel_df.show(5)"
      ]
    },
    {
      "cell_type": "code",
      "execution_count": null,
      "metadata": {
        "colab": {
          "base_uri": "https://localhost:8080/"
        },
        "id": "xABOnwQ9gwM5",
        "outputId": "829ae0b4-3aec-4f21-a20c-96225dcf8129"
      },
      "outputs": [
        {
          "name": "stdout",
          "output_type": "stream",
          "text": [
            "+-----------+-----+-----+\n",
            "|is_canceled|label|count|\n",
            "+-----------+-----+-----+\n",
            "|          0|  0.0|62733|\n",
            "|          1|  1.0|40161|\n",
            "+-----------+-----+-----+\n",
            "\n"
          ]
        }
      ],
      "source": [
        "i_v_hotel_df.select('is_canceled','label').groupBy('is_canceled','label').count().show()\n",
        "# just making sure this labeling system worked and that there are no stray values"
      ]
    },
    {
      "cell_type": "code",
      "execution_count": null,
      "metadata": {
        "colab": {
          "base_uri": "https://localhost:8080/"
        },
        "id": "IEiK6yppgwjk",
        "outputId": "2e790675-0cd1-4cf0-f08c-0ec519f2ff23"
      },
      "outputs": [
        {
          "data": {
            "text/plain": [
              "(82364, 20530, 102894)"
            ]
          },
          "execution_count": 50,
          "metadata": {},
          "output_type": "execute_result"
        }
      ],
      "source": [
        "splits = i_v_hotel_df.randomSplit([0.8,0.2],1)\n",
        "train_df = splits[0]\n",
        "test_df = splits[1]\n",
        "train_df.count(), test_df.count(), i_v_hotel_df.count()\n",
        "\n",
        "# classic 80(training)/20(testing) split"
      ]
    },
    {
      "cell_type": "code",
      "execution_count": null,
      "metadata": {
        "id": "XJhESgcdgxrw"
      },
      "outputs": [],
      "source": [
        "from pyspark.ml.classification import MultilayerPerceptronClassifier\n",
        "from pyspark.ml.evaluation import MulticlassClassificationEvaluator\n",
        "layers = [27,14,4,2]\n",
        "# a = 27 because the other 1 column contains the output column (is_canceled)\n",
        "# b = 2 because it's either yes (cancelled) or no\n",
        "\n",
        "mlp = MultilayerPerceptronClassifier(layers = layers, seed = 1)\n",
        "mlp_model = mlp.fit(train_df)\n",
        "\n",
        "pred_df = mlp_model.transform(test_df)"
      ]
    },
    {
      "cell_type": "code",
      "execution_count": null,
      "metadata": {
        "colab": {
          "base_uri": "https://localhost:8080/"
        },
        "id": "h7iia1D-g0N5",
        "outputId": "6cc76d1d-6fb3-422b-df3f-8bdbf8a129c9"
      },
      "outputs": [
        {
          "data": {
            "text/plain": [
              "0.695859717486605"
            ]
          },
          "execution_count": 52,
          "metadata": {},
          "output_type": "execute_result"
        }
      ],
      "source": [
        "evaluator = MulticlassClassificationEvaluator(labelCol = 'label', predictionCol = 'prediction', metricName = 'accuracy')\n",
        "mlpacc = evaluator.evaluate(pred_df)\n",
        "mlpacc\n",
        "# metric name is apparently case sensitive so it can't be written 'Accuracy' and has to be 'accuracy'"
      ]
    },
    {
      "cell_type": "markdown",
      "metadata": {
        "id": "loJFy6F89764"
      },
      "source": [
        "Sources:\n",
        "https://medium.com/swlh/pysparks-multi-layer-perceptron-classifier-on-iris-dataset-dcf70d553cd8\n",
        "3 - Mobile Price Prediction Solution (Assignment solution)\n",
        "https://community.databricks.com/s/question/0D53f00001HKHmYCAX/attributeerror-dataframe-object-has-no-attribute-rename"
      ]
    },
    {
      "cell_type": "markdown",
      "metadata": {
        "id": "EhwG5VNPpFP3"
      },
      "source": [
        "## Decision Tree Classifier"
      ]
    },
    {
      "cell_type": "code",
      "execution_count": null,
      "metadata": {
        "colab": {
          "base_uri": "https://localhost:8080/"
        },
        "id": "Z9tYNVWxB3px",
        "outputId": "bb137940-cb92-4e5f-8f8b-ee39a15e9175"
      },
      "outputs": [
        {
          "name": "stdout",
          "output_type": "stream",
          "text": [
            "root\n",
            " |-- Unnamed: 0: integer (nullable = true)\n",
            " |-- hotel: string (nullable = true)\n",
            " |-- is_canceled: integer (nullable = true)\n",
            " |-- lead_time: integer (nullable = true)\n",
            " |-- arrival_date_year: integer (nullable = true)\n",
            " |-- arrival_date_month: integer (nullable = true)\n",
            " |-- arrival_date_week_number: integer (nullable = true)\n",
            " |-- arrival_date_day_of_month: integer (nullable = true)\n",
            " |-- stays_in_weekend_nights: integer (nullable = true)\n",
            " |-- stays_in_week_nights: integer (nullable = true)\n",
            " |-- adults: integer (nullable = true)\n",
            " |-- children: double (nullable = true)\n",
            " |-- babies: integer (nullable = true)\n",
            " |-- meal: integer (nullable = true)\n",
            " |-- country: integer (nullable = true)\n",
            " |-- distribution_channel: integer (nullable = true)\n",
            " |-- is_repeated_guest: integer (nullable = true)\n",
            " |-- previous_cancellations: integer (nullable = true)\n",
            " |-- previous_bookings_not_canceled: integer (nullable = true)\n",
            " |-- reserved_room_type: integer (nullable = true)\n",
            " |-- assigned_room_type: integer (nullable = true)\n",
            " |-- booking_changes: integer (nullable = true)\n",
            " |-- deposit_type: integer (nullable = true)\n",
            " |-- agent: double (nullable = true)\n",
            " |-- days_in_waiting_list: integer (nullable = true)\n",
            " |-- customer_type: integer (nullable = true)\n",
            " |-- adr: double (nullable = true)\n",
            " |-- required_car_parking_spaces: integer (nullable = true)\n",
            " |-- total_of_special_requests: integer (nullable = true)\n",
            "\n"
          ]
        }
      ],
      "source": [
        "from pyspark.ml.linalg import Vectors\n",
        "from pyspark.sql import SparkSession\n",
        "from pyspark.ml import Pipeline\n",
        "from pyspark.ml.feature import VectorAssembler\n",
        "from pyspark.ml.classification import LogisticRegression\n",
        "from sklearn.metrics import accuracy_score\n",
        "\n",
        "spark = SparkSession.builder.appName('hotels').getOrCreate()\n",
        "df = spark.read.csv('cleaned.csv', header = True, inferSchema = True)\n",
        "df.printSchema()\n",
        "\n",
        "# initialization source is the lab (3 - Mobile Price Prediction Solution (Assignment solution))"
      ]
    },
    {
      "cell_type": "code",
      "execution_count": null,
      "metadata": {
        "id": "Y_AzaUqjB7qS"
      },
      "outputs": [],
      "source": [
        "# to fix the next line of code's would-be error (IllegalArgumentException: Data type string of column hotel is not supported.\n",
        "# Data type date of column arrival_date is not supported.), we need to handle hotel & arrival_date columns:\n",
        "\n",
        "from pyspark.sql.functions import *\n",
        "from pyspark.ml.feature import VectorAssembler, StringIndexer\n",
        "\n",
        "# Convert the 'hotel' column from string to numeric\n",
        "stringIndexer = StringIndexer(inputCol='hotel', outputCol='hotel_index')\n",
        "indexed = stringIndexer.fit(df).transform(df)\n",
        "\n",
        "# Convert the 'arrival_date' column to timestamp\n",
        "# indexed = indexed.withColumn('arrival_date', to_timestamp('arrival_date', 'yyyy-MM-dd'))"
      ]
    },
    {
      "cell_type": "markdown",
      "metadata": {
        "id": "LaAZrvbH-SiE"
      },
      "source": [
        "Every column, including the label, must be numeric."
      ]
    },
    {
      "cell_type": "code",
      "execution_count": null,
      "metadata": {
        "id": "Z9T2jozJ_6x8"
      },
      "outputs": [],
      "source": [
        "# Define the input columns\n",
        "inputCols = ['hotel_index','arrival_date_year','arrival_date_month', 'arrival_date_week_number', 'arrival_date_day_of_month' ,'lead_time', 'stays_in_weekend_nights', 'stays_in_week_nights', 'adults', 'children',\n",
        "'babies', 'meal', 'country', 'distribution_channel', 'is_repeated_guest', 'previous_cancellations', 'previous_bookings_not_canceled', 'reserved_room_type',\n",
        "'assigned_room_type', 'booking_changes', 'deposit_type', 'agent', 'days_in_waiting_list', 'customer_type', 'adr', 'required_car_parking_spaces',\n",
        "'total_of_special_requests']"
      ]
    },
    {
      "cell_type": "code",
      "execution_count": null,
      "metadata": {
        "id": "Gy8kjhgA_64N"
      },
      "outputs": [],
      "source": [
        "# Transform the input columns into a feature column\n",
        "vectorAssembler = VectorAssembler(inputCols=inputCols, outputCol='features')\n",
        "indexed = vectorAssembler.transform(indexed)"
      ]
    },
    {
      "cell_type": "code",
      "execution_count": null,
      "metadata": {
        "id": "VjYO7Brj-TiP"
      },
      "outputs": [],
      "source": [
        "# Split the data into training and test sets\n",
        "(trainingData, testData) = indexed.randomSplit([0.8, 0.2])"
      ]
    },
    {
      "cell_type": "code",
      "execution_count": null,
      "metadata": {
        "id": "tBcGu9WZAPPf"
      },
      "outputs": [],
      "source": [
        "from pyspark.ml.classification import DecisionTreeClassifier\n",
        "\n",
        "# Define the DecisionTreeClassifier\n",
        "dtc = DecisionTreeClassifier(labelCol='is_canceled', featuresCol='features', maxDepth=5)"
      ]
    },
    {
      "cell_type": "code",
      "execution_count": null,
      "metadata": {
        "id": "JwI252EKAPXU"
      },
      "outputs": [],
      "source": [
        "pipeline = Pipeline(stages=[dtc])\n",
        "model = pipeline.fit(trainingData)"
      ]
    },
    {
      "cell_type": "code",
      "execution_count": null,
      "metadata": {
        "id": "6YQkBCQCASsI"
      },
      "outputs": [],
      "source": [
        "predictions = model.transform(testData)"
      ]
    },
    {
      "cell_type": "code",
      "execution_count": null,
      "metadata": {
        "colab": {
          "base_uri": "https://localhost:8080/"
        },
        "id": "KmRratqX_zVN",
        "outputId": "1369c509-ae5b-4eff-bfb2-d2b096d6e453"
      },
      "outputs": [
        {
          "name": "stdout",
          "output_type": "stream",
          "text": [
            "Accuracy: 0.7493434490808287\n"
          ]
        }
      ],
      "source": [
        "# Evaluate the model using accuracy metric\n",
        "from pyspark.ml.evaluation import MulticlassClassificationEvaluator\n",
        "evaluator = MulticlassClassificationEvaluator(labelCol='is_canceled', predictionCol='prediction', metricName='accuracy')\n",
        "accuracy = evaluator.evaluate(predictions)\n",
        "print('Accuracy:', accuracy)"
      ]
    },
    {
      "cell_type": "markdown",
      "metadata": {
        "id": "8W3gKSsNDtSl"
      },
      "source": [
        "5% increase in accuracy from last model!"
      ]
    },
    {
      "cell_type": "markdown",
      "metadata": {
        "id": "dHBHNo0TD_e1"
      },
      "source": [
        "Sources: pyspark ml classification DecisionTreeClassifier. https://spark.apache.org/docs/latest/api/python/reference/api/pyspark.ml.classification.DecisionTreeClassifier.html"
      ]
    },
    {
      "cell_type": "markdown",
      "metadata": {
        "id": "zCajN6odEKfO"
      },
      "source": [
        "## Gradient-Boosted Tree Classifier"
      ]
    },
    {
      "cell_type": "code",
      "execution_count": null,
      "metadata": {
        "colab": {
          "base_uri": "https://localhost:8080/"
        },
        "id": "S2AQHWbsFkwM",
        "outputId": "09b8e4f3-9567-43c6-f8e0-db1968045cd6"
      },
      "outputs": [
        {
          "name": "stdout",
          "output_type": "stream",
          "text": [
            "root\n",
            " |-- Unnamed: 0: integer (nullable = true)\n",
            " |-- hotel: string (nullable = true)\n",
            " |-- is_canceled: integer (nullable = true)\n",
            " |-- lead_time: integer (nullable = true)\n",
            " |-- arrival_date_year: integer (nullable = true)\n",
            " |-- arrival_date_month: integer (nullable = true)\n",
            " |-- arrival_date_week_number: integer (nullable = true)\n",
            " |-- arrival_date_day_of_month: integer (nullable = true)\n",
            " |-- stays_in_weekend_nights: integer (nullable = true)\n",
            " |-- stays_in_week_nights: integer (nullable = true)\n",
            " |-- adults: integer (nullable = true)\n",
            " |-- children: double (nullable = true)\n",
            " |-- babies: integer (nullable = true)\n",
            " |-- meal: integer (nullable = true)\n",
            " |-- country: integer (nullable = true)\n",
            " |-- distribution_channel: integer (nullable = true)\n",
            " |-- is_repeated_guest: integer (nullable = true)\n",
            " |-- previous_cancellations: integer (nullable = true)\n",
            " |-- previous_bookings_not_canceled: integer (nullable = true)\n",
            " |-- reserved_room_type: integer (nullable = true)\n",
            " |-- assigned_room_type: integer (nullable = true)\n",
            " |-- booking_changes: integer (nullable = true)\n",
            " |-- deposit_type: integer (nullable = true)\n",
            " |-- agent: double (nullable = true)\n",
            " |-- days_in_waiting_list: integer (nullable = true)\n",
            " |-- customer_type: integer (nullable = true)\n",
            " |-- adr: double (nullable = true)\n",
            " |-- required_car_parking_spaces: integer (nullable = true)\n",
            " |-- total_of_special_requests: integer (nullable = true)\n",
            "\n"
          ]
        }
      ],
      "source": [
        "from pyspark.ml.linalg import Vectors\n",
        "from pyspark.sql import SparkSession\n",
        "from pyspark.ml import Pipeline\n",
        "from pyspark.ml.feature import VectorAssembler\n",
        "from pyspark.ml.classification import LogisticRegression\n",
        "from sklearn.metrics import accuracy_score\n",
        "\n",
        "spark = SparkSession.builder.appName('hotels').getOrCreate()\n",
        "df = spark.read.csv('cleaned.csv', header = True, inferSchema = True)\n",
        "df.printSchema()\n",
        "\n",
        "# initialization source is the lab (3 - Mobile Price Prediction Solution (Assignment solution))"
      ]
    },
    {
      "cell_type": "code",
      "execution_count": null,
      "metadata": {
        "id": "CLJnC7Y_FlrC"
      },
      "outputs": [],
      "source": [
        "# to fix the next line of code's would-be error (IllegalArgumentException: Data type string of column hotel is not supported.\n",
        "# Data type date of column arrival_date is not supported.), we need to handle hotel & arrival_date columns:\n",
        "\n",
        "from pyspark.sql.functions import *\n",
        "from pyspark.ml.feature import VectorAssembler, StringIndexer\n",
        "\n",
        "# Convert the 'hotel' column from string to numeric\n",
        "stringIndexer = StringIndexer(inputCol='hotel', outputCol='hotel_index')\n",
        "indexed = stringIndexer.fit(df).transform(df)\n",
        "\n",
        "# Convert the 'arrival_date' column to timestamp\n",
        "# indexed = indexed.withColumn('arrival_date', to_timestamp('arrival_date', 'yyyy-MM-dd'))"
      ]
    },
    {
      "cell_type": "code",
      "execution_count": null,
      "metadata": {
        "id": "SsggmmiXFltQ"
      },
      "outputs": [],
      "source": [
        "# Define the input columns\n",
        "inputCols = ['hotel_index','arrival_date_year','arrival_date_month', 'arrival_date_week_number', 'arrival_date_day_of_month' ,'lead_time', 'stays_in_weekend_nights', 'stays_in_week_nights', 'adults', 'children',\n",
        "'babies', 'meal', 'country', 'distribution_channel', 'is_repeated_guest', 'previous_cancellations', 'previous_bookings_not_canceled', 'reserved_room_type',\n",
        "'assigned_room_type', 'booking_changes', 'deposit_type', 'agent', 'days_in_waiting_list', 'customer_type', 'adr', 'required_car_parking_spaces',\n",
        "'total_of_special_requests']"
      ]
    },
    {
      "cell_type": "code",
      "execution_count": null,
      "metadata": {
        "id": "y7w6Zq4AFluy"
      },
      "outputs": [],
      "source": [
        "# Transform the input columns into a feature column\n",
        "vectorAssembler = VectorAssembler(inputCols=inputCols, outputCol='features')\n",
        "indexed = vectorAssembler.transform(indexed)"
      ]
    },
    {
      "cell_type": "code",
      "execution_count": null,
      "metadata": {
        "id": "47CJZvbUF-0_"
      },
      "outputs": [],
      "source": [
        "# Split the data into training and test sets\n",
        "\n",
        "(trainingData, testData) = indexed.randomSplit([0.8, 0.2])\n"
      ]
    },
    {
      "cell_type": "code",
      "execution_count": null,
      "metadata": {
        "id": "_NHQRTCzEiGs"
      },
      "outputs": [],
      "source": [
        "from pyspark.ml.classification import GBTClassifier\n",
        "\n",
        "# Train a Gradient-Boosted Tree Classifier\n",
        "gbt = GBTClassifier(featuresCol='features', labelCol='is_canceled', maxIter=10)\n",
        "gbt_model = gbt.fit(trainingData)"
      ]
    },
    {
      "cell_type": "code",
      "execution_count": null,
      "metadata": {
        "id": "3TXBabQFEiXQ"
      },
      "outputs": [],
      "source": [
        "# Make predictions on the test data\n",
        "predictions = gbt_model.transform(testData)"
      ]
    },
    {
      "cell_type": "code",
      "execution_count": null,
      "metadata": {
        "colab": {
          "base_uri": "https://localhost:8080/"
        },
        "id": "ztEdIxdGEicx",
        "outputId": "d1edd108-fef2-4187-8ab8-7a8bfe23d959"
      },
      "outputs": [
        {
          "name": "stdout",
          "output_type": "stream",
          "text": [
            "Accuracy: 0.8222921171613918\n"
          ]
        }
      ],
      "source": [
        "from pyspark.ml.evaluation import BinaryClassificationEvaluator\n",
        "\n",
        "evaluator3 = MulticlassClassificationEvaluator(labelCol='is_canceled', predictionCol='prediction', metricName='accuracy')\n",
        "accuracy = evaluator3.evaluate(predictions)\n",
        "print('Accuracy:', accuracy)"
      ]
    },
    {
      "cell_type": "markdown",
      "metadata": {
        "id": "nH_2MOieHuvM"
      },
      "source": [
        "Highest accuracy!"
      ]
    },
    {
      "cell_type": "markdown",
      "metadata": {
        "id": "zew6d_TnHx55"
      },
      "source": [
        "Sources:  pyspark ml classification GBTClassifier: https://spark.apache.org/docs/latest/api/python/reference/api/pyspark.ml.classification.GBTClassifier.html\n",
        "\n",
        "https://towardsdatascience.com/understanding-how-a-gradient-boosted-tree-does-binary-classification-c215967600fe\n",
        "\n",
        "https://www.geeksforgeeks.org/pyspark-randomsplit-and-sample-methods/"
      ]
    }
  ],
  "metadata": {
    "colab": {
      "provenance": []
    },
    "kernelspec": {
      "display_name": "Python 3",
      "name": "python3"
    },
    "language_info": {
      "codemirror_mode": {
        "name": "ipython",
        "version": 3
      },
      "file_extension": ".py",
      "mimetype": "text/x-python",
      "name": "python",
      "nbconvert_exporter": "python",
      "pygments_lexer": "ipython3",
      "version": "3.10.4"
    }
  },
  "nbformat": 4,
  "nbformat_minor": 0
}